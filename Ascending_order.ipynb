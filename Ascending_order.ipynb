{
  "nbformat": 4,
  "nbformat_minor": 0,
  "metadata": {
    "colab": {
      "provenance": [],
      "authorship_tag": "ABX9TyN9iYFBQMP9pn+uAFR2ykBk",
      "include_colab_link": true
    },
    "kernelspec": {
      "name": "python3",
      "display_name": "Python 3"
    },
    "language_info": {
      "name": "python"
    }
  },
  "cells": [
    {
      "cell_type": "markdown",
      "metadata": {
        "id": "view-in-github",
        "colab_type": "text"
      },
      "source": [
        "<a href=\"https://colab.research.google.com/github/anjunridegreecollege/python-miniprojects/blob/main/Ascending_order.ipynb\" target=\"_parent\"><img src=\"https://colab.research.google.com/assets/colab-badge.svg\" alt=\"Open In Colab\"/></a>"
      ]
    },
    {
      "cell_type": "code",
      "source": [
        "\n",
        "def ascending_order():\n",
        "    number=[1,5,3,4]\n",
        "    print(\"list1:\",number)\n",
        "    number.sort()\n",
        "    print(\" list2:\",number)\n",
        "ascending_order()"
      ],
      "metadata": {
        "colab": {
          "base_uri": "https://localhost:8080/"
        },
        "id": "nfkHGT6jOWcE",
        "outputId": "aa6e2c0e-a100-443d-cd00-6cd4efac908e"
      },
      "execution_count": 1,
      "outputs": [
        {
          "output_type": "stream",
          "name": "stdout",
          "text": [
            "list1: [1, 5, 3, 4]\n",
            " list2: [1, 3, 4, 5]\n"
          ]
        }
      ]
    }
  ]
}