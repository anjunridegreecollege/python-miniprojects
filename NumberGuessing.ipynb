{
 "cells": [
  {
   "cell_type": "code",
   "execution_count": null,
   "metadata": {},
   "outputs": [],
   "source": []
  },
  {
   "cell_type": "code",
   "execution_count": 1,
   "metadata": {},
   "outputs": [
    {
     "name": "stdout",
     "output_type": "stream",
     "text": [
      " hi,welcome to number guessing game\n",
      "I am using 1to20 number can I guess?\n",
      "your guess is wrong\n",
      "your guess is wrong\n",
      "your guess is right\n"
     ]
    }
   ],
   "source": [
    "import random\n",
    "print(\" hi,welcome to number guessing game\")\n",
    "print(\"I am using 1to20 number can I guess?\")\n",
    "# generate a randam number between 1 to 20\n",
    "readnumber=random.randint(1,20)\n",
    "#initialization variable\n",
    "value=True\n",
    "while value:\n",
    "    userinput=int(input(\" enter guess\"))\n",
    "    if(userinput==readnumber):\n",
    "        print(\"your guess is right\")\n",
    "        value=False\n",
    "    else:\n",
    "        print(\"your guess is wrong\")"
   ]
  }
 ],
 "metadata": {
  "kernelspec": {
   "display_name": "Python 3",
   "language": "python",
   "name": "python3"
  },
  "language_info": {
   "codemirror_mode": {
    "name": "ipython",
    "version": 3
   },
   "file_extension": ".py",
   "mimetype": "text/x-python",
   "name": "python",
   "nbconvert_exporter": "python",
   "pygments_lexer": "ipython3",
   "version": "3.9.13"
  }
 },
 "nbformat": 4,
 "nbformat_minor": 2
}
